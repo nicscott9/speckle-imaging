{
 "cells": [
  {
   "cell_type": "markdown",
   "metadata": {},
   "source": [
    "# Overview\n",
    "\n",
    "This interactive notebook acts as an productive, ituitive way for the Speckle Imaging Group to plan observing runs. In order to ensure that this tool functions properly, there are a list of **assumptions**:\n",
    "\n",
    "- Input files will be CSV files aka comma seperated files (create a fork for it to be tab separated)\n",
    "- For complex filtering and searching of targets, you must provide your own custom filter in the cells marked below if the ones provided are not suitable\n",
    "- For \"ZERO\" values or \"EMPTY\" values, please use empty commas \",,\""
   ]
  },
  {
   "cell_type": "markdown",
   "metadata": {},
   "source": [
    "## Download libraries if not \n",
    "\n",
    "Depending on your set up, you may have to change \"pip3\" to \"pip\""
   ]
  },
  {
   "cell_type": "code",
   "execution_count": 3,
   "metadata": {},
   "outputs": [
    {
     "name": "stdout",
     "output_type": "stream",
     "text": [
      "Requirement already up-to-date: pip in /usr/local/lib/python3.7/site-packages (20.1.1)\n",
      "Requirement already satisfied: pandas in /usr/local/lib/python3.7/site-packages (1.0.3)\n",
      "Requirement already satisfied: numpy in /usr/local/lib/python3.7/site-packages (1.18.2)\n",
      "Requirement already satisfied: python-dateutil>=2.6.1 in /usr/local/lib/python3.7/site-packages (from pandas) (2.8.1)\n",
      "Requirement already satisfied: pytz>=2017.2 in /usr/local/lib/python3.7/site-packages (from pandas) (2019.3)\n",
      "Requirement already satisfied: six>=1.5 in /Users/jonwong/Library/Python/3.7/lib/python/site-packages (from python-dateutil>=2.6.1->pandas) (1.12.0)\n",
      "Requirement already up-to-date: astropy in /usr/local/lib/python3.7/site-packages (4.0.1.post1)\n",
      "Requirement already up-to-date: astroplan in /usr/local/lib/python3.7/site-packages (0.6)\n",
      "Requirement already satisfied, skipping upgrade: numpy>=1.16 in /usr/local/lib/python3.7/site-packages (from astropy) (1.18.2)\n",
      "Requirement already satisfied, skipping upgrade: six in /Users/jonwong/Library/Python/3.7/lib/python/site-packages (from astroplan) (1.12.0)\n",
      "Requirement already satisfied, skipping upgrade: pytz in /usr/local/lib/python3.7/site-packages (from astroplan) (2019.3)\n",
      "Requirement already satisfied: ipywidgets in /usr/local/lib/python3.7/site-packages (7.5.1)\n",
      "Requirement already satisfied: widgetsnbextension~=3.5.0 in /usr/local/lib/python3.7/site-packages (from ipywidgets) (3.5.1)\n",
      "Requirement already satisfied: ipykernel>=4.5.1 in /usr/local/lib/python3.7/site-packages (from ipywidgets) (5.3.0)\n",
      "Requirement already satisfied: traitlets>=4.3.1 in /usr/local/lib/python3.7/site-packages (from ipywidgets) (4.3.3)\n",
      "Requirement already satisfied: nbformat>=4.2.0 in /usr/local/lib/python3.7/site-packages (from ipywidgets) (5.0.6)\n",
      "Requirement already satisfied: ipython>=4.0.0; python_version >= \"3.3\" in /usr/local/lib/python3.7/site-packages (from ipywidgets) (7.14.0)\n",
      "Requirement already satisfied: notebook>=4.4.1 in /usr/local/lib/python3.7/site-packages (from widgetsnbextension~=3.5.0->ipywidgets) (6.0.3)\n",
      "Requirement already satisfied: jupyter-client in /usr/local/lib/python3.7/site-packages (from ipykernel>=4.5.1->ipywidgets) (6.1.3)\n",
      "Requirement already satisfied: appnope; platform_system == \"Darwin\" in /usr/local/lib/python3.7/site-packages (from ipykernel>=4.5.1->ipywidgets) (0.1.0)\n",
      "Requirement already satisfied: tornado>=4.2 in /usr/local/lib/python3.7/site-packages (from ipykernel>=4.5.1->ipywidgets) (6.0.4)\n",
      "Requirement already satisfied: six in /Users/jonwong/Library/Python/3.7/lib/python/site-packages (from traitlets>=4.3.1->ipywidgets) (1.12.0)\n",
      "Requirement already satisfied: ipython-genutils in /usr/local/lib/python3.7/site-packages (from traitlets>=4.3.1->ipywidgets) (0.2.0)\n",
      "Requirement already satisfied: decorator in /usr/local/lib/python3.7/site-packages (from traitlets>=4.3.1->ipywidgets) (4.4.2)\n",
      "Requirement already satisfied: jupyter-core in /usr/local/lib/python3.7/site-packages (from nbformat>=4.2.0->ipywidgets) (4.6.3)\n",
      "Requirement already satisfied: jsonschema!=2.5.0,>=2.4 in /usr/local/lib/python3.7/site-packages (from nbformat>=4.2.0->ipywidgets) (3.2.0)\n",
      "Requirement already satisfied: setuptools>=18.5 in /usr/local/lib/python3.7/site-packages (from ipython>=4.0.0; python_version >= \"3.3\"->ipywidgets) (46.0.0)\n",
      "Requirement already satisfied: pexpect; sys_platform != \"win32\" in /usr/local/lib/python3.7/site-packages (from ipython>=4.0.0; python_version >= \"3.3\"->ipywidgets) (4.8.0)\n",
      "Requirement already satisfied: prompt-toolkit!=3.0.0,!=3.0.1,<3.1.0,>=2.0.0 in /usr/local/lib/python3.7/site-packages (from ipython>=4.0.0; python_version >= \"3.3\"->ipywidgets) (3.0.5)\n",
      "Requirement already satisfied: pygments in /usr/local/lib/python3.7/site-packages (from ipython>=4.0.0; python_version >= \"3.3\"->ipywidgets) (2.6.1)\n",
      "Requirement already satisfied: pickleshare in /usr/local/lib/python3.7/site-packages (from ipython>=4.0.0; python_version >= \"3.3\"->ipywidgets) (0.7.5)\n",
      "Requirement already satisfied: backcall in /usr/local/lib/python3.7/site-packages (from ipython>=4.0.0; python_version >= \"3.3\"->ipywidgets) (0.1.0)\n",
      "Requirement already satisfied: jedi>=0.10 in /usr/local/lib/python3.7/site-packages (from ipython>=4.0.0; python_version >= \"3.3\"->ipywidgets) (0.15.2)\n",
      "Requirement already satisfied: nbconvert in /usr/local/lib/python3.7/site-packages (from notebook>=4.4.1->widgetsnbextension~=3.5.0->ipywidgets) (5.6.1)\n",
      "Requirement already satisfied: pyzmq>=17 in /usr/local/lib/python3.7/site-packages (from notebook>=4.4.1->widgetsnbextension~=3.5.0->ipywidgets) (19.0.1)\n",
      "Requirement already satisfied: terminado>=0.8.1 in /usr/local/lib/python3.7/site-packages (from notebook>=4.4.1->widgetsnbextension~=3.5.0->ipywidgets) (0.8.3)\n",
      "Requirement already satisfied: jinja2 in /usr/local/lib/python3.7/site-packages (from notebook>=4.4.1->widgetsnbextension~=3.5.0->ipywidgets) (2.11.2)\n",
      "Requirement already satisfied: Send2Trash in /usr/local/lib/python3.7/site-packages (from notebook>=4.4.1->widgetsnbextension~=3.5.0->ipywidgets) (1.5.0)\n",
      "Requirement already satisfied: prometheus-client in /usr/local/lib/python3.7/site-packages (from notebook>=4.4.1->widgetsnbextension~=3.5.0->ipywidgets) (0.8.0)\n",
      "Requirement already satisfied: python-dateutil>=2.1 in /usr/local/lib/python3.7/site-packages (from jupyter-client->ipykernel>=4.5.1->ipywidgets) (2.8.1)\n",
      "Requirement already satisfied: attrs>=17.4.0 in /usr/local/lib/python3.7/site-packages (from jsonschema!=2.5.0,>=2.4->nbformat>=4.2.0->ipywidgets) (19.3.0)\n",
      "Requirement already satisfied: pyrsistent>=0.14.0 in /usr/local/lib/python3.7/site-packages (from jsonschema!=2.5.0,>=2.4->nbformat>=4.2.0->ipywidgets) (0.16.0)\n",
      "Requirement already satisfied: importlib-metadata; python_version < \"3.8\" in /usr/local/lib/python3.7/site-packages (from jsonschema!=2.5.0,>=2.4->nbformat>=4.2.0->ipywidgets) (1.6.0)\n",
      "Requirement already satisfied: ptyprocess>=0.5 in /usr/local/lib/python3.7/site-packages (from pexpect; sys_platform != \"win32\"->ipython>=4.0.0; python_version >= \"3.3\"->ipywidgets) (0.6.0)\n",
      "Requirement already satisfied: wcwidth in /usr/local/lib/python3.7/site-packages (from prompt-toolkit!=3.0.0,!=3.0.1,<3.1.0,>=2.0.0->ipython>=4.0.0; python_version >= \"3.3\"->ipywidgets) (0.1.9)\n",
      "Requirement already satisfied: parso>=0.5.2 in /usr/local/lib/python3.7/site-packages (from jedi>=0.10->ipython>=4.0.0; python_version >= \"3.3\"->ipywidgets) (0.6.2)\n",
      "Requirement already satisfied: pandocfilters>=1.4.1 in /usr/local/lib/python3.7/site-packages (from nbconvert->notebook>=4.4.1->widgetsnbextension~=3.5.0->ipywidgets) (1.4.2)\n",
      "Requirement already satisfied: defusedxml in /usr/local/lib/python3.7/site-packages (from nbconvert->notebook>=4.4.1->widgetsnbextension~=3.5.0->ipywidgets) (0.6.0)\n",
      "Requirement already satisfied: mistune<2,>=0.8.1 in /usr/local/lib/python3.7/site-packages (from nbconvert->notebook>=4.4.1->widgetsnbextension~=3.5.0->ipywidgets) (0.8.4)\n",
      "Requirement already satisfied: entrypoints>=0.2.2 in /usr/local/lib/python3.7/site-packages (from nbconvert->notebook>=4.4.1->widgetsnbextension~=3.5.0->ipywidgets) (0.3)\n",
      "Requirement already satisfied: testpath in /usr/local/lib/python3.7/site-packages (from nbconvert->notebook>=4.4.1->widgetsnbextension~=3.5.0->ipywidgets) (0.4.4)\n",
      "Requirement already satisfied: bleach in /usr/local/lib/python3.7/site-packages (from nbconvert->notebook>=4.4.1->widgetsnbextension~=3.5.0->ipywidgets) (3.1.5)\n",
      "Requirement already satisfied: MarkupSafe>=0.23 in /usr/local/lib/python3.7/site-packages (from jinja2->notebook>=4.4.1->widgetsnbextension~=3.5.0->ipywidgets) (1.1.1)\n",
      "Requirement already satisfied: zipp>=0.5 in /usr/local/lib/python3.7/site-packages (from importlib-metadata; python_version < \"3.8\"->jsonschema!=2.5.0,>=2.4->nbformat>=4.2.0->ipywidgets) (3.1.0)\n",
      "Requirement already satisfied: packaging in /usr/local/lib/python3.7/site-packages (from bleach->nbconvert->notebook>=4.4.1->widgetsnbextension~=3.5.0->ipywidgets) (20.4)\n",
      "Requirement already satisfied: webencodings in /usr/local/lib/python3.7/site-packages (from bleach->nbconvert->notebook>=4.4.1->widgetsnbextension~=3.5.0->ipywidgets) (0.5.1)\n",
      "Requirement already satisfied: pyparsing>=2.0.2 in /usr/local/lib/python3.7/site-packages (from packaging->bleach->nbconvert->notebook>=4.4.1->widgetsnbextension~=3.5.0->ipywidgets) (2.4.7)\n"
     ]
    }
   ],
   "source": [
    "!pip3 install --upgrade pip\n",
    "!pip3 install pandas numpy\n",
    "!pip3 install astropy astroplan -U\n",
    "!pip3 install ipywidgets"
   ]
  },
  {
   "cell_type": "markdown",
   "metadata": {},
   "source": [
    "## Set Up Libraries and Constants"
   ]
  },
  {
   "cell_type": "code",
   "execution_count": 47,
   "metadata": {},
   "outputs": [],
   "source": [
    "from astropy.coordinates import SkyCoord\n",
    "import astropy\n",
    "import ipywidgets as widgets\n",
    "from IPython.display import display, clear_output\n",
    "from astropy.table import QTable\n",
    "import astropy.units as u\n",
    "import numpy as np\n",
    "import pandas as pd\n",
    "\n",
    "import ipywidgets as widgets\n",
    "observed_textbox = widgets.Textarea(\n",
    "    value='''Example:\n",
    "1,example comment 1\n",
    "2,example comment 3\n",
    "10\n",
    "15,example comment 10\n",
    "20\n",
    "''',\n",
    "    placeholder='Type something',\n",
    "    description='Observed: ',\n",
    "    disabled=False\n",
    ")\n",
    "\n",
    "undo_textbox = widgets.Textarea(\n",
    "    value='''Example:\n",
    "1\n",
    "3\n",
    "4\n",
    "7\n",
    "''',\n",
    "    placeholder='Type something',\n",
    "    description='Observed: ',\n",
    "    disabled=False\n",
    ")"
   ]
  },
  {
   "cell_type": "markdown",
   "metadata": {},
   "source": [
    "# Step 1: Importation of olist/target files \n",
    "\n",
    "Note: There are two different \"Step 1\"s.\n",
    "\n",
    "[Step 1a is intended for a first night of an observing run](#Step-1a:-ASCII-File-Importation)\n",
    "\n",
    "[Step 1b is intended as a continuation of a previous night's run](#Step-1b:-Resume-Observation-Run-From-Previous-Night(s))"
   ]
  },
  {
   "cell_type": "markdown",
   "metadata": {},
   "source": [
    "## Step 1a: File(s) Importation "
   ]
  },
  {
   "cell_type": "markdown",
   "metadata": {},
   "source": [
    "### Upload CSV File(s) via Upload Widget\n",
    "\n",
    "Note: You may upload multiple CSV files at once\n",
    "\n",
    "**Column Descriptions:**\n",
    "\n",
    "- column 1: star_id\n",
    "- column 2: queue_id\n",
    "- column 3: right ascension\n",
    "- column 4: declination\n",
    "- column 5: epoch\n",
    "- column 6: proper motion for right asencsion \n",
    "- column 7: proper motion for declination\n",
    "- column 8: magnitude\n",
    "- column 9: priority number (nullable)\n",
    "- column 10: principal investigator (nullable)\n",
    "- column 11: comment (nullable)\n",
    "\n",
    "**Example Input file:**\n",
    "\n",
    "HIP33451,06:57:17.6,-35:30:26,2000.00,,,6.22,3,joncwong,comment<br/>\n",
    "HR 2518,06:47:21.4,-37:55:47,2000.00,-7.0,-15.0,5.26,1,howell<br/>\n",
    "HIP38382,07:51:46.3,-13:53:53,2000.00,,,5.16,1,nic,testtesttesttest<br/>\n",
    "HR 3073,07:52:18.9,-14:50:47,2000.00,-11.0,-2.0,5.69,1,nic<br/>\n",
    "HIP41426,08:26:57.7,-52:42:18,2000.00,,,6.49,2,howell,another test comment<br/>\n",
    "HR 3350,08:27:36.5,-53:05:19,2000.00,-68.0,13.0,5.09,1,,<br/>\n",
    "HIP78727,16:04:22.2,-11:22:23,2000.00,,,4.17,1,,test comment 2<br/>\n",
    "HR 6048,16:13:50.9,-11:50:15,2000.00,-10.0,-6.0,5.22,5,,test comment<br/>\n",
    "H101769,20:37:32.9,+14:35:43,2000.00,,,4.03,2,,<br/>\n",
    "HR 7918,20:41:16.2,+14:34:59,2000.00,-6.0,2.0,5.99,2,,<br/>\n",
    "H104858,21:14:28.8,+10:00:28,2000.00,,,5.07,3,,<br/>\n",
    "HR 8149,21:18:52.0,+11:12:12,2000.00,26.0,15.0,5.96,1,,<br/>\n",
    "H111974,22:40:52.5,+14:32:56,2000.00,,,6.14,1,,<br/>\n",
    "HR 8642,22:41:57.4,+14:30:59,2000.00,92.0,-21.0,5.9,1,,COMMENT<br/>"
   ]
  },
  {
   "cell_type": "code",
   "execution_count": 2,
   "metadata": {},
   "outputs": [
    {
     "data": {
      "application/vnd.jupyter.widget-view+json": {
       "model_id": "b8e2b67e55cb4a8d84994df0bee348b8",
       "version_major": 2,
       "version_minor": 0
      },
      "text/plain": [
       "FileUpload(value={}, description='Upload', multiple=True)"
      ]
     },
     "metadata": {},
     "output_type": "display_data"
    }
   ],
   "source": [
    "uploaded = widgets.FileUpload(\n",
    "    accept='',\n",
    "    multiple=True\n",
    ")\n",
    "uploaded"
   ]
  },
  {
   "cell_type": "markdown",
   "metadata": {},
   "source": [
    "### Step 1a cont: Parse CSV File into a Python List\n",
    "\n",
    "We parse the CSV File into a List data structure before importing the list into an AstroPy table"
   ]
  },
  {
   "cell_type": "code",
   "execution_count": 6,
   "metadata": {},
   "outputs": [],
   "source": [
    "decoded_files = []\n",
    "for file, file_bytes in uploaded.value.items():\n",
    "    decoded_files.append(file_bytes['content'].decode())\n",
    "\n",
    "decoded_entries = []\n",
    "\n",
    "for decoded_file in decoded_files:\n",
    "    for line in decoded_file.split(\"\\n\"):\n",
    "        line = ' '.join(line.split())\n",
    "        if line.count(\",\") > 2:\n",
    "            line = line.split(\",\")\n",
    "        else:\n",
    "            line = line.split(\" \")\n",
    "        \n",
    "        # These chain of if-statements deal with empty values in order to convert into default ZERO values\n",
    "        if line[0] == \"\":\n",
    "            continue\n",
    "   \n",
    "        try:\n",
    "            if line[4] == '':\n",
    "                line[4] = 0.0\n",
    "        except:\n",
    "            line.append(0.0)\n",
    "\n",
    "        try:\n",
    "            if line[5] == '':\n",
    "                line[5] = 0.0\n",
    "        except:\n",
    "            line.append(0.0)\n",
    "        try:\n",
    "            if line[6] == '':\n",
    "                line[6] = 0.0\n",
    "        except:\n",
    "            line.append(0.0)\n",
    "            \n",
    "        try:\n",
    "            if line[7] == '':\n",
    "                line[7] = 0\n",
    "        except:\n",
    "            line.append(0)\n",
    "        try:\n",
    "            comment = line[9]\n",
    "        except:\n",
    "            line.append(\"\")\n",
    "        decoded_entries.append(line)"
   ]
  },
  {
   "cell_type": "markdown",
   "metadata": {},
   "source": [
    "# Backlog Table and Observed Table Construction\n",
    "\n",
    "In this cell, we created two astropy tables: **backlog_table** and **observed_table**\n",
    "\n",
    "\"backlog_table\" will hold all the targets that we have yet to observed. \"observed_table\" will hold all the targets have have been observed.\n"
   ]
  },
  {
   "cell_type": "code",
   "execution_count": 32,
   "metadata": {},
   "outputs": [
    {
     "name": "stdout",
     "output_type": "stream",
     "text": [
      "['HIP33451', '06:57:17.6', '-35:30:26', '2000.00', 0.0, 0.0, '6.22', '3', 'joncwong', 'comment']\n",
      "['HR 2518', '06:47:21.4', '-37:55:47', '2000.00', '-7.0', '-15.0', '5.26', '1', 'howell', '']\n",
      "['HIP38382', '07:51:46.3', '-13:53:53', '2000.00', 0.0, 0.0, '5.16', '1', 'nic', 'testtesttesttest']\n",
      "['HR 3073', '07:52:18.9', '-14:50:47', '2000.00', '-11.0', '-2.0', '5.69', '1', 'nic', '']\n",
      "['HIP41426', '08:26:57.7', '-52:42:18', '2000.00', 0.0, 0.0, '6.49', '2', 'howell', 'another test comment']\n",
      "['HR 3350', '08:27:36.5', '-53:05:19', '2000.00', '-68.0', '13.0', '5.09', '1', '', '']\n",
      "['HIP78727', '16:04:22.2', '-11:22:23', '2000.00', 0.0, 0.0, '4.17', '1', '', 'test comment 2']\n",
      "['HR 6048', '16:13:50.9', '-11:50:15', '2000.00', '-10.0', '-6.0', '5.22', '5', '', 'test comment']\n",
      "['H101769', '20:37:32.9', '+14:35:43', '2000.00', 0.0, 0.0, '4.03', '2', '', '']\n",
      "['HR 7918', '20:41:16.2', '+14:34:59', '2000.00', '-6.0', '2.0', '5.99', 0, '', '']\n",
      "['H104858', '21:14:28.8', '+10:00:28', '2000.00', 0.0, 0.0, '5.07', '3', '', '']\n",
      "['HR 8149', '21:18:52.0', '+11:12:12', '2000.00', '26.0', '15.0', '5.96', '1', '', '']\n",
      "['H111974', '22:40:52.5', '+14:32:56', '2000.00', 0.0, 0.0, '6.14', 0, 'jon', '']\n",
      "['HR 8642', '22:41:57.4', '+14:30:59', '2000.00', '92.0', '-21.0', '5.9', 0, '', 'COMMENT']\n"
     ]
    }
   ],
   "source": [
    "backlog_targets = []\n",
    "observed_targets = []\n",
    "\n",
    "# Construction of Backlog table\n",
    "# backlog_table = QTable(names=(\"star_id\", \"queue_id\", \"ra\",\"dec\", \"epoch\", \"proper(ra)\", \"proper(dec)\", \"mag\", \"priority\", \"pi\", \"comment\"))\n",
    "backlog_table = QTable(names=(\"star_id\", \"ra\", \"dec\", \"epoch\", \"proper(ra)\", \"proper(dec)\", \"mag\", \"priority\", \"pi\", \"comment\"))\n",
    "backlog_table[\"star_id\"].dtype = np.dtype(\"S10\")\n",
    "# backlog_table[\"queue_id\"].dtype = np.dtype(\"S10\")\n",
    "backlog_table[\"ra\"].dtype = np.dtype(\"S10\")\n",
    "backlog_table[\"dec\"].dtype = np.dtype(\"S10\")\n",
    "backlog_table[\"epoch\"].dtype = np.dtype(\"float32\")\n",
    "backlog_table[\"proper(ra)\"].dtype = np.dtype(\"float32\")\n",
    "backlog_table[\"proper(dec)\"].dtype = np.dtype(\"float32\")\n",
    "backlog_table[\"mag\"].dtype = np.dtype(\"float32\")\n",
    "backlog_table[\"priority\"].dtype = np.dtype(\"int32\")\n",
    "backlog_table[\"pi\"].dtype = np.dtype(\"S10\")\n",
    "backlog_table[\"comment\"].dtype = np.dtype(\"S10\")\n",
    "\n",
    "# Construction of Observed table\n",
    "# observed_table = QTable(names=(\"star_id\", \"queue_id\", \"ra\", \"dec\", \"epoch\", \"proper(ra)\", \"proper(dec)\", \"mag\", \"priority\", \"pi\", \"comment\"))\n",
    "observed_table = QTable(names=(\"star_id\", \"ra\", \"dec\", \"epoch\", \"proper(ra)\", \"proper(dec)\", \"mag\", \"priority\", \"pi\", \"comment\", \"obs_comment\"))\n",
    "observed_table[\"star_id\"].dtype = np.dtype(\"S10\")\n",
    "# observed_table[\"queue_id\"].dtype = np.dtype(\"S10\")\n",
    "observed_table[\"ra\"].dtype = np.dtype(\"S10\")\n",
    "observed_table[\"dec\"].dtype = np.dtype(\"S10\")\n",
    "observed_table[\"epoch\"].dtype = np.dtype(\"float32\")\n",
    "observed_table[\"proper(ra)\"].dtype = np.dtype(\"float32\")\n",
    "observed_table[\"proper(dec)\"].dtype = np.dtype(\"float32\")\n",
    "observed_table[\"mag\"].dtype = np.dtype(\"float32\")\n",
    "observed_table[\"priority\"].dtype = np.dtype(\"int32\")\n",
    "observed_table[\"pi\"].dtype = np.dtype(\"S10\")\n",
    "observed_table[\"comment\"].dtype = np.dtype(\"S10\")\n",
    "observed_table[\"obs_comment\"].dtype = np.dtype(\"S10\")\n",
    "\n",
    "# Insert data into the table\n",
    "for i in range(len(decoded_entries)):\n",
    "    print(decoded_entries[i])\n",
    "    backlog_table.insert_row(i, decoded_entries[i])"
   ]
  },
  {
   "cell_type": "markdown",
   "metadata": {},
   "source": [
    "## Step 1b: Resume Observation Run From Previous Night(s)\n",
    "\n",
    "TODO: Allow prompted files to be inputted rather than a hard coded absolute file path\n",
    "\n",
    "TODO: Make instructions for how to do file picker"
   ]
  },
  {
   "cell_type": "code",
   "execution_count": 4,
   "metadata": {},
   "outputs": [],
   "source": [
    "backlog_table = QTable.read('backlog_table.ecsv')\n",
    "observed_table = QTable.read('observed_table.ecsv')"
   ]
  },
  {
   "cell_type": "markdown",
   "metadata": {},
   "source": [
    "# Parameter Tuning"
   ]
  },
  {
   "cell_type": "code",
   "execution_count": 5,
   "metadata": {},
   "outputs": [],
   "source": [
    "# Try using a enterable box for these parameters\n",
    "global ra_lower_bound\n",
    "global ra_upper_bound\n",
    "global dec_lower_bound\n",
    "global dec_upper_bound\n",
    "\n",
    "# Edit these parameters\n",
    "ra_lower_bound = '00:00:00.0'\n",
    "ra_upper_bound = '24:00:00.0'\n",
    "dec_lower_bound = '-90:00:00.0'\n",
    "dec_upper_bound = '+90:00:00.0'\n",
    "allowed_priority_bands = []\n",
    "\n",
    "# Range filter for mag\n",
    "# Display comments on the table\n",
    "# Filter by bands as well\n",
    "\n",
    "# def filter_ra_by_range(table, column):\n",
    "#     if ra_lower_bound < table[column][] < ra_upper_bound:\n",
    "#         return True\n",
    "#     return False\n",
    "\n",
    "# Edit the parameters of group_by in order to sort by columns of your choice\n",
    "# Possible sort keys: idx, star_id, ra, dec, epoch, proper(ra), proper(dec), mag\n",
    "backlog_table = backlog_table.group_by(['ra', 'mag'])\n",
    "\n",
    "# backlog_table = backlog_table.groups.filter(filter_ra_by_range)\n",
    "# backlog_table = backlog_table.groups.filter(filter_dec_by_range)"
   ]
  },
  {
   "cell_type": "markdown",
   "metadata": {},
   "source": [
    "# Table Display\n",
    "\n",
    "- If a different range, filter, or sort by is needed, rerun \"Parameter Tuning\" code block\n",
    "    - Then, re-run \"Table Display\""
   ]
  },
  {
   "cell_type": "code",
   "execution_count": 65,
   "metadata": {},
   "outputs": [
    {
     "data": {
      "text/html": [
       "<i>QTable length=23</i>\n",
       "<table id=\"table4764813456-603034\" class=\"table-striped table-bordered table-condensed\">\n",
       "<thead><tr><th>idx</th><th>star_id</th><th>ra</th><th>dec</th><th>epoch</th><th>proper(ra)</th><th>proper(dec)</th><th>mag</th><th>priority</th><th>pi</th><th>comment</th></tr></thead>\n",
       "<tr><td>0</td><td>HIP33451</td><td>06:57:17.6</td><td>-35:30:26</td><td>2000.0</td><td>0.0</td><td>0.0</td><td>6.22</td><td>3</td><td>joncwong</td><td>comment</td></tr>\n",
       "<tr><td>1</td><td>HR 2518</td><td>06:47:21.4</td><td>-37:55:47</td><td>2000.0</td><td>-7.0</td><td>-15.0</td><td>5.26</td><td>1</td><td>howell</td><td></td></tr>\n",
       "<tr><td>2</td><td>HIP38382</td><td>07:51:46.3</td><td>-13:53:53</td><td>2000.0</td><td>0.0</td><td>0.0</td><td>5.16</td><td>1</td><td>nic</td><td>testtestte</td></tr>\n",
       "<tr><td>3</td><td>HR 3073</td><td>07:52:18.9</td><td>-14:50:47</td><td>2000.0</td><td>-11.0</td><td>-2.0</td><td>5.69</td><td>1</td><td>nic</td><td></td></tr>\n",
       "<tr><td>4</td><td>HIP41426</td><td>08:26:57.7</td><td>-52:42:18</td><td>2000.0</td><td>0.0</td><td>0.0</td><td>6.49</td><td>2</td><td>howell</td><td>another te</td></tr>\n",
       "<tr><td>5</td><td>HR 3350</td><td>08:27:36.5</td><td>-53:05:19</td><td>2000.0</td><td>-68.0</td><td>13.0</td><td>5.09</td><td>1</td><td></td><td></td></tr>\n",
       "<tr><td>6</td><td>HIP78727</td><td>16:04:22.2</td><td>-11:22:23</td><td>2000.0</td><td>0.0</td><td>0.0</td><td>4.17</td><td>1</td><td></td><td>test comme</td></tr>\n",
       "<tr><td>7</td><td>HR 6048</td><td>16:13:50.9</td><td>-11:50:15</td><td>2000.0</td><td>-10.0</td><td>-6.0</td><td>5.22</td><td>5</td><td></td><td>test comme</td></tr>\n",
       "<tr><td>8</td><td>H101769</td><td>20:37:32.9</td><td>+14:35:43</td><td>2000.0</td><td>0.0</td><td>0.0</td><td>4.03</td><td>2</td><td></td><td></td></tr>\n",
       "<tr><td>9</td><td>HR 7918</td><td>20:41:16.2</td><td>+14:34:59</td><td>2000.0</td><td>-6.0</td><td>2.0</td><td>5.99</td><td>0</td><td></td><td></td></tr>\n",
       "<tr><td>10</td><td>H104858</td><td>21:14:28.8</td><td>+10:00:28</td><td>2000.0</td><td>0.0</td><td>0.0</td><td>5.07</td><td>3</td><td></td><td></td></tr>\n",
       "<tr><td>11</td><td>HR 8149</td><td>21:18:52.0</td><td>+11:12:12</td><td>2000.0</td><td>26.0</td><td>15.0</td><td>5.96</td><td>1</td><td></td><td></td></tr>\n",
       "<tr><td>12</td><td>H111974</td><td>22:40:52.5</td><td>+14:32:56</td><td>2000.0</td><td>0.0</td><td>0.0</td><td>6.14</td><td>0</td><td>jon</td><td></td></tr>\n",
       "<tr><td>13</td><td>HR 8642</td><td>22:41:57.4</td><td>+14:30:59</td><td>2000.0</td><td>92.0</td><td>-21.0</td><td>5.9</td><td>0</td><td></td><td>COMMENT</td></tr>\n",
       "<tr><td>14</td><td>HIP38382</td><td>07:51:46.3</td><td>-13:53:53</td><td>2000.0</td><td>0.0</td><td>0.0</td><td>5.16</td><td>1</td><td>nic</td><td>testtestte</td></tr>\n",
       "<tr><td>15</td><td>HIP41426</td><td>08:26:57.7</td><td>-52:42:18</td><td>2000.0</td><td>0.0</td><td>0.0</td><td>6.49</td><td>2</td><td>howell</td><td>another te</td></tr>\n",
       "<tr><td>16</td><td>HR 3350</td><td>08:27:36.5</td><td>-53:05:19</td><td>2000.0</td><td>-68.0</td><td>13.0</td><td>5.09</td><td>1</td><td></td><td></td></tr>\n",
       "<tr><td>17</td><td>HR 3073</td><td>07:52:18.9</td><td>-14:50:47</td><td>2000.0</td><td>-11.0</td><td>-2.0</td><td>5.69</td><td>1</td><td>nic</td><td></td></tr>\n",
       "<tr><td>18</td><td>HR 6048</td><td>16:13:50.9</td><td>-11:50:15</td><td>2000.0</td><td>-10.0</td><td>-6.0</td><td>5.22</td><td>5</td><td></td><td>test comme</td></tr>\n",
       "<tr><td>19</td><td>HR 3073</td><td>07:52:18.9</td><td>-14:50:47</td><td>2000.0</td><td>-11.0</td><td>-2.0</td><td>5.69</td><td>1</td><td>nic</td><td></td></tr>\n",
       "<tr><td>20</td><td>HR 6048</td><td>16:13:50.9</td><td>-11:50:15</td><td>2000.0</td><td>-10.0</td><td>-6.0</td><td>5.22</td><td>5</td><td></td><td>test comme</td></tr>\n",
       "<tr><td>21</td><td>HIP78727</td><td>16:04:22.2</td><td>-11:22:23</td><td>2000.0</td><td>0.0</td><td>0.0</td><td>4.17</td><td>1</td><td></td><td>test comme</td></tr>\n",
       "<tr><td>22</td><td>HR 2518</td><td>06:47:21.4</td><td>-37:55:47</td><td>2000.0</td><td>-7.0</td><td>-15.0</td><td>5.26</td><td>1</td><td>howell</td><td></td></tr>\n",
       "</table><style>table.dataTable {clear: both; width: auto !important; margin: 0 !important;}\n",
       ".dataTables_info, .dataTables_length, .dataTables_filter, .dataTables_paginate{\n",
       "display: inline-block; margin-right: 1em; }\n",
       ".paginate_button { margin-right: 5px; }\n",
       "</style>\n",
       "<script>\n",
       "\n",
       "var astropy_sort_num = function(a, b) {\n",
       "    var a_num = parseFloat(a);\n",
       "    var b_num = parseFloat(b);\n",
       "\n",
       "    if (isNaN(a_num) && isNaN(b_num))\n",
       "        return ((a < b) ? -1 : ((a > b) ? 1 : 0));\n",
       "    else if (!isNaN(a_num) && !isNaN(b_num))\n",
       "        return ((a_num < b_num) ? -1 : ((a_num > b_num) ? 1 : 0));\n",
       "    else\n",
       "        return isNaN(a_num) ? -1 : 1;\n",
       "}\n",
       "\n",
       "require.config({paths: {\n",
       "    datatables: 'https://cdn.datatables.net/1.10.12/js/jquery.dataTables.min'\n",
       "}});\n",
       "require([\"datatables\"], function(){\n",
       "    console.log(\"$('#table4764813456-603034').dataTable()\");\n",
       "    \n",
       "jQuery.extend( jQuery.fn.dataTableExt.oSort, {\n",
       "    \"optionalnum-asc\": astropy_sort_num,\n",
       "    \"optionalnum-desc\": function (a,b) { return -astropy_sort_num(a, b); }\n",
       "});\n",
       "\n",
       "    $('#table4764813456-603034').dataTable({\n",
       "        order: [],\n",
       "        pageLength: 25,\n",
       "        lengthMenu: [[10, 25, 50, 100, 500, 1000, -1], [10, 25, 50, 100, 500, 1000, 'All']],\n",
       "        pagingType: \"full_numbers\",\n",
       "        columnDefs: [{targets: [0, 4, 5, 6, 7, 8], type: \"optionalnum\"}]\n",
       "    });\n",
       "});\n",
       "</script>\n"
      ],
      "text/plain": [
       "<IPython.core.display.HTML object>"
      ]
     },
     "execution_count": 65,
     "metadata": {},
     "output_type": "execute_result"
    }
   ],
   "source": [
    "backlog_table.show_in_notebook(display_length=25)"
   ]
  },
  {
   "cell_type": "markdown",
   "metadata": {},
   "source": [
    "# Mark as Observed\n",
    "\n",
    "Mark stars as observed in the below textbox. Remove the example placeholder shown with your own list of 'idx's and comments to mark as observed.\n",
    "\n"
   ]
  },
  {
   "cell_type": "code",
   "execution_count": 8,
   "metadata": {},
   "outputs": [
    {
     "data": {
      "application/vnd.jupyter.widget-view+json": {
       "model_id": "93deafcb507b45a795dc351881f7f57d",
       "version_major": 2,
       "version_minor": 0
      },
      "text/plain": [
       "Textarea(value='Example:\\n1\\n2\\n10\\n15\\n', description='Observed: ', placeholder='Type something')"
      ]
     },
     "metadata": {},
     "output_type": "display_data"
    }
   ],
   "source": [
    "observed_textbox"
   ]
  },
  {
   "cell_type": "code",
   "execution_count": 9,
   "metadata": {},
   "outputs": [
    {
     "name": "stdout",
     "output_type": "stream",
     "text": [
      "test\n"
     ]
    }
   ],
   "source": [
    "print(\"test\")"
   ]
  },
  {
   "cell_type": "markdown",
   "metadata": {},
   "source": [
    "## Move targets from textbox to saved observed table\n",
    "\n",
    "Run the below cell in order to save all of the targets by idx, into a temporary table which will be exported at the end of the night.\n",
    "\n",
    "**Note:**\n",
    "\n",
    "- If an entry is not a number or a valid ID of the table, it will be automatically thrown away.**\n",
    "\n",
    "- Idx numbers are not permanent nor important to a particular row, they are simply used as temporary IDs to mark targets as observed"
   ]
  },
  {
   "cell_type": "code",
   "execution_count": 43,
   "metadata": {},
   "outputs": [
    {
     "name": "stdout",
     "output_type": "stream",
     "text": [
      "HR 2518\n",
      "['HR 2518', '06:47:21.4', '-37:55:47', 2000.0, -7.0, -15.0, 5.26, 1, 'howell', '', 'example comment for ']\n",
      "HIP38382\n",
      "['HIP38382', '07:51:46.3', '-13:53:53', 2000.0, 0.0, 0.0, 5.16, 1, 'nic', 'testtestte', 'hello']\n",
      "HR 3073\n",
      "['HR 3073', '07:52:18.9', '-14:50:47', 2000.0, -11.0, -2.0, 5.69, 1, 'nic', '', 'this is a comment']\n",
      "HIP41426\n",
      "['HIP41426', '08:26:57.7', '-52:42:18', 2000.0, 0.0, 0.0, 6.49, 2, 'howell', 'another te', '']\n",
      "HR 3350\n",
      "['HR 3350', '08:27:36.5', '-53:05:19', 2000.0, -68.0, 13.0, 5.09, 1, '', '', '']\n",
      "HIP78727\n",
      "['HIP78727', '16:04:22.2', '-11:22:23', 2000.0, 0.0, 0.0, 4.17, 1, '', 'test comme', '']\n",
      "HR 6048\n",
      "['HR 6048', '16:13:50.9', '-11:50:15', 2000.0, -10.0, -6.0, 5.22, 5, '', 'test comme', '']\n"
     ]
    }
   ],
   "source": [
    "textbox_string = observed_textbox.value\n",
    "textbox_string = textbox_string.rstrip()\n",
    "textbox_list = textbox_string.split('\\n')\n",
    "id_upper_bound = len(backlog_table)\n",
    "id_list = []\n",
    "id_comment_list = []\n",
    "for line in textbox_list:\n",
    "    \n",
    "    line = line.split(',')\n",
    "    line[0] = int(line[0])\n",
    "    if line[0] > id_upper_bound:\n",
    "        raise Exception(\"Please ensure that your ID is a digit within the range of valid IDs\")\n",
    "        \n",
    "    # Add a empty string if there is no comment\n",
    "    try:\n",
    "        str(line[1])\n",
    "    except:\n",
    "        line.append(\"\")\n",
    "    id_comment_list.append(line)\n",
    "    id_list.append(line[0])\n",
    "\n",
    "for observed in id_comment_list:\n",
    "    print(backlog_table[observed[0]][0])\n",
    "    temp_row = [backlog_table[observed[0]][0], backlog_table[observed[0]][1], backlog_table[observed[0]][2],\n",
    "                backlog_table[observed[0]][3], backlog_table[observed[0]][4], backlog_table[observed[0]][5],\n",
    "                backlog_table[observed[0]][6], backlog_table[observed[0]][7], backlog_table[observed[0]][8],\n",
    "                backlog_table[observed[0]][9], observed[1]]\n",
    "    print(temp_row)\n",
    "    observed_table.add_row(temp_row)\n",
    "\n",
    "backlog_table.remove_rows(id_list)"
   ]
  },
  {
   "cell_type": "code",
   "execution_count": 58,
   "metadata": {},
   "outputs": [
    {
     "data": {
      "text/html": [
       "<i>QTable length=2</i>\n",
       "<table id=\"table4755134992-152749\" class=\"table-striped table-bordered table-condensed\">\n",
       "<thead><tr><th>idx</th><th>star_id</th><th>ra</th><th>dec</th><th>epoch</th><th>proper(ra)</th><th>proper(dec)</th><th>mag</th><th>priority</th><th>pi</th><th>comment</th><th>obs_comment</th></tr></thead>\n",
       "<tr><td>0</td><td>HR 2518</td><td>06:47:21.4</td><td>-37:55:47</td><td>2000.0</td><td>-7.0</td><td>-15.0</td><td>5.26</td><td>1</td><td>howell</td><td></td><td>example co</td></tr>\n",
       "<tr><td>1</td><td>HIP78727</td><td>16:04:22.2</td><td>-11:22:23</td><td>2000.0</td><td>0.0</td><td>0.0</td><td>4.17</td><td>1</td><td></td><td>test comme</td><td></td></tr>\n",
       "</table><style>table.dataTable {clear: both; width: auto !important; margin: 0 !important;}\n",
       ".dataTables_info, .dataTables_length, .dataTables_filter, .dataTables_paginate{\n",
       "display: inline-block; margin-right: 1em; }\n",
       ".paginate_button { margin-right: 5px; }\n",
       "</style>\n",
       "<script>\n",
       "\n",
       "var astropy_sort_num = function(a, b) {\n",
       "    var a_num = parseFloat(a);\n",
       "    var b_num = parseFloat(b);\n",
       "\n",
       "    if (isNaN(a_num) && isNaN(b_num))\n",
       "        return ((a < b) ? -1 : ((a > b) ? 1 : 0));\n",
       "    else if (!isNaN(a_num) && !isNaN(b_num))\n",
       "        return ((a_num < b_num) ? -1 : ((a_num > b_num) ? 1 : 0));\n",
       "    else\n",
       "        return isNaN(a_num) ? -1 : 1;\n",
       "}\n",
       "\n",
       "require.config({paths: {\n",
       "    datatables: 'https://cdn.datatables.net/1.10.12/js/jquery.dataTables.min'\n",
       "}});\n",
       "require([\"datatables\"], function(){\n",
       "    console.log(\"$('#table4755134992-152749').dataTable()\");\n",
       "    \n",
       "jQuery.extend( jQuery.fn.dataTableExt.oSort, {\n",
       "    \"optionalnum-asc\": astropy_sort_num,\n",
       "    \"optionalnum-desc\": function (a,b) { return -astropy_sort_num(a, b); }\n",
       "});\n",
       "\n",
       "    $('#table4755134992-152749').dataTable({\n",
       "        order: [],\n",
       "        pageLength: 25,\n",
       "        lengthMenu: [[10, 25, 50, 100, 500, 1000, -1], [10, 25, 50, 100, 500, 1000, 'All']],\n",
       "        pagingType: \"full_numbers\",\n",
       "        columnDefs: [{targets: [0, 4, 5, 6, 7, 8], type: \"optionalnum\"}]\n",
       "    });\n",
       "});\n",
       "</script>\n"
      ],
      "text/plain": [
       "<IPython.core.display.HTML object>"
      ]
     },
     "execution_count": 58,
     "metadata": {},
     "output_type": "execute_result"
    }
   ],
   "source": [
    "observed_table.show_in_notebook(display_length=25)"
   ]
  },
  {
   "cell_type": "markdown",
   "metadata": {},
   "source": [
    "# Undo/Redo\n",
    "\n",
    "Similarily to the \"mark as observed\" textbox, enter the IDs of the observed_table rows that you would like to removed from observed back into the backlog. Do not include a comma or comments, just one ID per line."
   ]
  },
  {
   "cell_type": "code",
   "execution_count": 48,
   "metadata": {},
   "outputs": [
    {
     "data": {
      "application/vnd.jupyter.widget-view+json": {
       "model_id": "2b24e96e660544849c9bc85f3fa88928",
       "version_major": 2,
       "version_minor": 0
      },
      "text/plain": [
       "Textarea(value='Example:\\n1\\n3\\n4\\n7\\n', description='Observed: ', placeholder='Type something')"
      ]
     },
     "metadata": {},
     "output_type": "display_data"
    }
   ],
   "source": [
    "undo_textbox"
   ]
  },
  {
   "cell_type": "markdown",
   "metadata": {},
   "source": [
    "## Run this cell to move all IDs in textbox back to backlog"
   ]
  },
  {
   "cell_type": "code",
   "execution_count": 63,
   "metadata": {},
   "outputs": [],
   "source": [
    "undo_textbox_str = undo_textbox.value.strip()\n",
    "undo_id_list = undo_textbox_str.split('\\n')\n",
    "id_upper_bound = len(observed_table)\n",
    "for idx in undo_id_list:\n",
    "    idx = int(idx)\n",
    "    if idx > id_upper_bound:\n",
    "        raise Exception(\"Please ensure that your ID is a digit within the range of valid IDs\")\n",
    "\n",
    "    temp_row = [observed_table[idx][0], observed_table[idx][1], observed_table[idx][2],\n",
    "                observed_table[idx][3], observed_table[idx][4], observed_table[idx][5],\n",
    "                observed_table[idx][6], observed_table[idx][7], observed_table[idx][8],\n",
    "                observed_table[idx][9]]\n",
    "    backlog_table.add_row(temp_row)\n",
    "\n",
    "observed_table.remove_rows(list(map(int, undo_id_list)))"
   ]
  },
  {
   "cell_type": "code",
   "execution_count": 69,
   "metadata": {},
   "outputs": [
    {
     "data": {
      "text/html": [
       "<i>QTable length=0</i>\n",
       "<table id=\"table4755134992-190091\" class=\"table-striped table-bordered table-condensed\">\n",
       "<thead><tr><th>idx</th><th>star_id</th><th>ra</th><th>dec</th><th>epoch</th><th>proper(ra)</th><th>proper(dec)</th><th>mag</th><th>priority</th><th>pi</th><th>comment</th><th>obs_comment</th></tr></thead>\n",
       "</table><style>table.dataTable {clear: both; width: auto !important; margin: 0 !important;}\n",
       ".dataTables_info, .dataTables_length, .dataTables_filter, .dataTables_paginate{\n",
       "display: inline-block; margin-right: 1em; }\n",
       ".paginate_button { margin-right: 5px; }\n",
       "</style>\n",
       "<script>\n",
       "\n",
       "var astropy_sort_num = function(a, b) {\n",
       "    var a_num = parseFloat(a);\n",
       "    var b_num = parseFloat(b);\n",
       "\n",
       "    if (isNaN(a_num) && isNaN(b_num))\n",
       "        return ((a < b) ? -1 : ((a > b) ? 1 : 0));\n",
       "    else if (!isNaN(a_num) && !isNaN(b_num))\n",
       "        return ((a_num < b_num) ? -1 : ((a_num > b_num) ? 1 : 0));\n",
       "    else\n",
       "        return isNaN(a_num) ? -1 : 1;\n",
       "}\n",
       "\n",
       "require.config({paths: {\n",
       "    datatables: 'https://cdn.datatables.net/1.10.12/js/jquery.dataTables.min'\n",
       "}});\n",
       "require([\"datatables\"], function(){\n",
       "    console.log(\"$('#table4755134992-190091').dataTable()\");\n",
       "    \n",
       "jQuery.extend( jQuery.fn.dataTableExt.oSort, {\n",
       "    \"optionalnum-asc\": astropy_sort_num,\n",
       "    \"optionalnum-desc\": function (a,b) { return -astropy_sort_num(a, b); }\n",
       "});\n",
       "\n",
       "    $('#table4755134992-190091').dataTable({\n",
       "        order: [],\n",
       "        pageLength: 25,\n",
       "        lengthMenu: [[10, 25, 50, 100, 500, 1000, -1], [10, 25, 50, 100, 500, 1000, 'All']],\n",
       "        pagingType: \"full_numbers\",\n",
       "        columnDefs: [{targets: [0, 4, 5, 6, 7, 8], type: \"optionalnum\"}]\n",
       "    });\n",
       "});\n",
       "</script>\n"
      ],
      "text/plain": [
       "<IPython.core.display.HTML object>"
      ]
     },
     "execution_count": 69,
     "metadata": {},
     "output_type": "execute_result"
    }
   ],
   "source": [
    "# Check table state\n",
    "observed_table.show_in_notebook(display_length=25)"
   ]
  },
  {
   "cell_type": "markdown",
   "metadata": {},
   "source": [
    "# Save table state(s) for the night\n",
    "\n",
    "In order to save the state(s) of the table, we will be serializing both the backlog and observed table. When loading data for the next night, only these saved files will be needed, not the initial target files. Will overr\n",
    "\n"
   ]
  },
  {
   "cell_type": "code",
   "execution_count": 68,
   "metadata": {
    "scrolled": false
   },
   "outputs": [],
   "source": [
    "import datetime\n",
    "\n",
    "# TODO: remove whitespace from UTC time in file naming\n",
    "backlog_table.write('backlog_table_' + str(datetime.datetime.utcnow()) + '.ecsv', overwrite=False, serialize_method='data_mask')\n",
    "observed_table.write('observed_table' + str(datetime.datetime.utcnow()) + '.ecsv', overwrite=False, serialize_method='data_mask')"
   ]
  },
  {
   "cell_type": "code",
   "execution_count": null,
   "metadata": {},
   "outputs": [],
   "source": []
  }
 ],
 "metadata": {
  "kernelspec": {
   "display_name": "Python 3",
   "language": "python",
   "name": "python3"
  },
  "language_info": {
   "codemirror_mode": {
    "name": "ipython",
    "version": 3
   },
   "file_extension": ".py",
   "mimetype": "text/x-python",
   "name": "python",
   "nbconvert_exporter": "python",
   "pygments_lexer": "ipython3",
   "version": "3.7.4"
  }
 },
 "nbformat": 4,
 "nbformat_minor": 2
}
