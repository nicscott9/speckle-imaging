{
 "cells": [
  {
   "cell_type": "markdown",
   "metadata": {},
   "source": [
    "# Overview\n",
    "\n",
    "This interactive notebook acts as an productive, ituitive way for the Speckle Imaging Group to plan observing runs. In order to ensure that this tool functions properly, there are a list of **assumptions**:\n",
    "\n",
    "- Input files will be comma separated (create a fork for it to be tab separated)\n",
    "- For complex filtering and searching of targets, you must provide your own custom filter in the cells marked below\n",
    "- For \"ZERO\" values or \"EMPTY\" values, please use empty commas \",,\""
   ]
  },
  {
   "cell_type": "code",
   "execution_count": 1,
   "metadata": {},
   "outputs": [
    {
     "data": {
      "application/vnd.jupyter.widget-view+json": {
       "model_id": "bc3a3b50a61a4d29affe370ca0885dc2",
       "version_major": 2,
       "version_minor": 0
      },
      "text/plain": [
       "FileUpload(value={}, description='Upload', multiple=True)"
      ]
     },
     "metadata": {},
     "output_type": "display_data"
    }
   ],
   "source": [
    "!pip3 install --upgrade pip\n",
    "!pip3 install pandas numpy\n",
    "!pip3 install astropy astroplan -U\n",
    "!pip3 install ipywidgets\n",
    "\n",
    "from astropy.coordinates import SkyCoord\n",
    "import astropy\n",
    "# import astroplan\n",
    "import ipywidgets\n",
    "from IPython.display import display, clear_output\n",
    "from astropy.table import QTable\n",
    "import astropy.units as u\n",
    "import numpy as np\n",
    "import pandas as pd\n",
    "\n",
    "uploaded = ipywidgets.FileUpload(\n",
    "    accept='',\n",
    "    multiple=True\n",
    ")\n",
    "uploaded\n",
    "\n",
    "import ipywidgets as widgets\n",
    "observed_textbox = widgets.Textarea(\n",
    "    value='''Example:\n",
    "1\n",
    "2\n",
    "10\n",
    "15\n",
    "''',\n",
    "    placeholder='Type something',\n",
    "    description='Observed: ',\n",
    "    disabled=False\n",
    ")\n",
    "\n",
    "uploaded"
   ]
  },
  {
   "cell_type": "markdown",
   "metadata": {},
   "source": [
    "# Step 1: Importation of olist/target files "
   ]
  },
  {
   "cell_type": "markdown",
   "metadata": {},
   "source": [
    "## Step 1a: ASCII File Importation \n",
    "\n",
    "**Run this cell if it's the first night of the observing run, otherwise, skip to Step 1b**"
   ]
  },
  {
   "cell_type": "code",
   "execution_count": 21,
   "metadata": {},
   "outputs": [
    {
     "name": "stdout",
     "output_type": "stream",
     "text": [
      "[['HIP33451', '06:57:17.6', '-35:30:26', '2000.00', 0.0, 0.0, '6.22', 'comment'], ['HR 2518', '06:47:21.4', '-37:55:47', '2000.00', '-7.0', '-15.0', '5.26', ''], ['HIP38382', '07:51:46.3', '-13:53:53', '2000.00', 0.0, 0.0, '5.16', 'testtesttesttest'], ['HR 3073', '07:52:18.9', '-14:50:47', '2000.00', '-11.0', '-2.0', '5.69', ''], ['HIP41426', '08:26:57.7', '-52:42:18', '2000.00', 0.0, 0.0, '6.49', 'another test comment'], ['HR 3350', '08:27:36.5', '-53:05:19', '2000.00', '-68.0', '13.0', '5.09', ''], ['HIP78727', '16:04:22.2', '-11:22:23', '2000.00', 0.0, 0.0, '4.17', 'test comment 2'], ['HR 6048', '16:13:50.9', '-11:50:15', '2000.00', '-10.0', '-6.0', '5.22', 'test comment'], ['H101769', '20:37:32.9', '+14:35:43', '2000.00', 0.0, 0.0, '4.03', ''], ['HR 7918', '20:41:16.2', '+14:34:59', '2000.00', '-6.0', '2.0', '5.99', ''], ['H104858', '21:14:28.8', '+10:00:28', '2000.00', 0.0, 0.0, '5.07', ''], ['HR 8149', '21:18:52.0', '+11:12:12', '2000.00', '26.0', '15.0', '5.96', ''], ['H111974', '22:40:52.5', '+14:32:56', '2000.00', 0.0, 0.0, '6.14', ''], ['HR 8642', '22:41:57.4', '+14:30:59', '2000.00', '92.0', '-21.0', '5.9', 'COMMENT']]\n"
     ]
    }
   ],
   "source": [
    "decoded_files = []\n",
    "for file, file_bytes in uploaded.value.items():\n",
    "    decoded_files.append(file_bytes['content'].decode())\n",
    "\n",
    "decoded_entries = []\n",
    "\n",
    "for decoded_file in decoded_files:\n",
    "    for line in decoded_file.split(\"\\n\"):\n",
    "        line = ' '.join(line.split())\n",
    "        if line.count(\",\") > 2:\n",
    "            line = line.split(\",\")\n",
    "        else:\n",
    "            line = line.split(\" \")\n",
    "        \n",
    "        if line[0] == \"\":\n",
    "            continue\n",
    "   \n",
    "        try:\n",
    "            if line[4] == '':\n",
    "                line[4] = 0.0\n",
    "        except:\n",
    "            line.append(0.0)\n",
    "\n",
    "        try:\n",
    "            if line[5] == '':\n",
    "                line[5] = 0.0\n",
    "        except:\n",
    "            line.append(0.0)\n",
    "        try:\n",
    "            if line[6] == '':\n",
    "                line[6] = 0.0\n",
    "        except:\n",
    "            line.append(0.0)\n",
    "\n",
    "        try:\n",
    "            comment = line[7]\n",
    "        except:\n",
    "            line.append(\"\")\n",
    "        decoded_entries.append(line)\n",
    "\n",
    "print(decoded_entries)"
   ]
  },
  {
   "cell_type": "markdown",
   "metadata": {},
   "source": [
    "# Backlog Table and Observed Table Construction\n",
    "\n",
    "In this cell, we created two astropy tables: **backlog_table** and **observed_table**\n",
    "\n",
    "\"backlog_table\" will hold all the targets that we have yet to observed. \"observed_table\" will hold all the targets have have been observed.\n"
   ]
  },
  {
   "cell_type": "code",
   "execution_count": 9,
   "metadata": {},
   "outputs": [
    {
     "name": "stdout",
     "output_type": "stream",
     "text": [
      "['HIP33451', '06:57:17.6', '-35:30:26', '2000.00', 0.0, 0.0, '6.22', 'comment']\n",
      "['HR 2518', '06:47:21.4', '-37:55:47', '2000.00', '-7.0', '-15.0', '5.26']\n"
     ]
    },
    {
     "ename": "ValueError",
     "evalue": "Mismatch between number of vals and columns",
     "output_type": "error",
     "traceback": [
      "\u001b[0;31m---------------------------------------------------------------------------\u001b[0m",
      "\u001b[0;31mValueError\u001b[0m                                Traceback (most recent call last)",
      "\u001b[0;32m<ipython-input-9-771d2e02fa97>\u001b[0m in \u001b[0;36m<module>\u001b[0;34m\u001b[0m\n\u001b[1;32m     35\u001b[0m \u001b[0;32mfor\u001b[0m \u001b[0mi\u001b[0m \u001b[0;32min\u001b[0m \u001b[0mrange\u001b[0m\u001b[0;34m(\u001b[0m\u001b[0mlen\u001b[0m\u001b[0;34m(\u001b[0m\u001b[0mdecoded_entries\u001b[0m\u001b[0;34m)\u001b[0m\u001b[0;34m)\u001b[0m\u001b[0;34m:\u001b[0m\u001b[0;34m\u001b[0m\u001b[0;34m\u001b[0m\u001b[0m\n\u001b[1;32m     36\u001b[0m     \u001b[0mprint\u001b[0m\u001b[0;34m(\u001b[0m\u001b[0mdecoded_entries\u001b[0m\u001b[0;34m[\u001b[0m\u001b[0mi\u001b[0m\u001b[0;34m]\u001b[0m\u001b[0;34m)\u001b[0m\u001b[0;34m\u001b[0m\u001b[0;34m\u001b[0m\u001b[0m\n\u001b[0;32m---> 37\u001b[0;31m     \u001b[0mbacklog_table\u001b[0m\u001b[0;34m.\u001b[0m\u001b[0minsert_row\u001b[0m\u001b[0;34m(\u001b[0m\u001b[0mi\u001b[0m\u001b[0;34m,\u001b[0m \u001b[0mdecoded_entries\u001b[0m\u001b[0;34m[\u001b[0m\u001b[0mi\u001b[0m\u001b[0;34m]\u001b[0m\u001b[0;34m)\u001b[0m\u001b[0;34m\u001b[0m\u001b[0;34m\u001b[0m\u001b[0m\n\u001b[0m\u001b[1;32m     38\u001b[0m \u001b[0;34m\u001b[0m\u001b[0m\n\u001b[1;32m     39\u001b[0m \u001b[0;31m# def filter_ra_by_range(table, key_colnames):\u001b[0m\u001b[0;34m\u001b[0m\u001b[0;34m\u001b[0m\u001b[0;34m\u001b[0m\u001b[0m\n",
      "\u001b[0;32m~/opt/anaconda3/lib/python3.7/site-packages/astropy/table/table.py\u001b[0m in \u001b[0;36minsert_row\u001b[0;34m(self, index, vals, mask)\u001b[0m\n\u001b[1;32m   2491\u001b[0m \u001b[0;34m\u001b[0m\u001b[0m\n\u001b[1;32m   2492\u001b[0m             \u001b[0;32mif\u001b[0m \u001b[0mlen\u001b[0m\u001b[0;34m(\u001b[0m\u001b[0mself\u001b[0m\u001b[0;34m.\u001b[0m\u001b[0mcolumns\u001b[0m\u001b[0;34m)\u001b[0m \u001b[0;34m!=\u001b[0m \u001b[0mlen\u001b[0m\u001b[0;34m(\u001b[0m\u001b[0mvals\u001b[0m\u001b[0;34m)\u001b[0m\u001b[0;34m:\u001b[0m\u001b[0;34m\u001b[0m\u001b[0;34m\u001b[0m\u001b[0m\n\u001b[0;32m-> 2493\u001b[0;31m                 \u001b[0;32mraise\u001b[0m \u001b[0mValueError\u001b[0m\u001b[0;34m(\u001b[0m\u001b[0;34m'Mismatch between number of vals and columns'\u001b[0m\u001b[0;34m)\u001b[0m\u001b[0;34m\u001b[0m\u001b[0;34m\u001b[0m\u001b[0m\n\u001b[0m\u001b[1;32m   2494\u001b[0m \u001b[0;34m\u001b[0m\u001b[0m\n\u001b[1;32m   2495\u001b[0m             \u001b[0;32mif\u001b[0m \u001b[0mmask\u001b[0m \u001b[0;32mis\u001b[0m \u001b[0;32mnot\u001b[0m \u001b[0;32mNone\u001b[0m\u001b[0;34m:\u001b[0m\u001b[0;34m\u001b[0m\u001b[0;34m\u001b[0m\u001b[0m\n",
      "\u001b[0;31mValueError\u001b[0m: Mismatch between number of vals and columns"
     ]
    }
   ],
   "source": [
    "backlog_targets = []\n",
    "observed_targets = []\n",
    "\n",
    "# Construction of Backlog table\n",
    "# backlog_table = QTable(names=(\"star_id\", \"queue_id\", \"ra\",\"dec\", \"epoch\", \"proper(ra)\", \"proper(dec)\", \"mag\", \"priority\", \"pi\", \"comment\"))\n",
    "backlog_table = QTable(names=(\"star_id\", \"ra\", \"dec\", \"epoch\", \"proper(ra)\", \"proper(dec)\", \"mag\", \"comment\"))\n",
    "backlog_table[\"star_id\"].dtype = np.dtype(\"S10\")\n",
    "# backlog_table[\"queue_id\"].dtype = np.dtype(\"S10\")\n",
    "backlog_table[\"ra\"].dtype = np.dtype(\"S10\")\n",
    "backlog_table[\"dec\"].dtype = np.dtype(\"S10\")\n",
    "backlog_table[\"epoch\"].dtype = np.dtype(\"float32\")\n",
    "backlog_table[\"proper(ra)\"].dtype = np.dtype(\"float32\")\n",
    "backlog_table[\"proper(dec)\"].dtype = np.dtype(\"float32\")\n",
    "backlog_table[\"mag\"].dtype = np.dtype(\"float32\")\n",
    "# backlog_table[\"priority\"].dtype = np.dtype(\"float32\")\n",
    "# backlog_table[\"pi\"].dtype = np.dtype(\"S10\")\n",
    "backlog_table[\"comment\"].dtype = np.dtype(\"S10\")\n",
    "\n",
    "# Construction of Observed table\n",
    "# observed_table = QTable(names=(\"star_id\", \"queue_id\", \"ra\", \"dec\", \"epoch\", \"proper(ra)\", \"proper(dec)\", \"mag\", \"priority\", \"pi\", \"comment\"))\n",
    "observed_table = QTable(names=(\"star_id\", \"ra\", \"dec\", \"epoch\", \"proper(ra)\", \"proper(dec)\", \"mag\", \"comment\"))\n",
    "observed_table[\"star_id\"].dtype = np.dtype(\"S10\")\n",
    "# observed_table[\"queue_id\"].dtype = np.dtype(\"S10\")\n",
    "observed_table[\"ra\"].dtype = np.dtype(\"S10\")\n",
    "observed_table[\"dec\"].dtype = np.dtype(\"S10\")\n",
    "observed_table[\"epoch\"].dtype = np.dtype(\"float32\")\n",
    "observed_table[\"proper(ra)\"].dtype = np.dtype(\"float32\")\n",
    "observed_table[\"proper(dec)\"].dtype = np.dtype(\"float32\")\n",
    "observed_table[\"mag\"].dtype = np.dtype(\"float32\")\n",
    "# observed_table[\"priority\"].dtype = np.dtype(\"float32\")\n",
    "# observed_table[\"pi\"].dtype = np.dtype(\"S10\")\n",
    "observed_table[\"comment\"].dtype = np.dtype(\"S10\")\n",
    "\n",
    "# Insert data into the table\n",
    "for i in range(len(decoded_entries)):\n",
    "    print(decoded_entries[i])\n",
    "    backlog_table.insert_row(i, decoded_entries[i])\n",
    "\n",
    "# def filter_ra_by_range(table, key_colnames):\n",
    "#     print(key_colnames)\n",
    "#     global x\n",
    "#     print(x)\n",
    "#     pass\n",
    "\n",
    "# def filter_dec_by_range(table, key_colnames):\n",
    "#     global y\n",
    "#     print(y)\n",
    "#     pass"
   ]
  },
  {
   "cell_type": "markdown",
   "metadata": {},
   "source": [
    "## Step 1b: Resume Observation Run From Previous Night(s)\n",
    "\n",
    "TODO: Allow prompted files to be inputted rather than a hard coded absolute file path"
   ]
  },
  {
   "cell_type": "code",
   "execution_count": null,
   "metadata": {},
   "outputs": [],
   "source": [
    "backlog_table = QTable.read('.ecsv')\n",
    "observed_table = QTable.read('.ecsv')"
   ]
  },
  {
   "cell_type": "markdown",
   "metadata": {},
   "source": [
    "# Parameter Tuning"
   ]
  },
  {
   "cell_type": "code",
   "execution_count": null,
   "metadata": {},
   "outputs": [],
   "source": [
    "# Try using a enterable box for these parameters\n",
    "global ra_lower_bound\n",
    "global ra_upper_bound\n",
    "global dec_lower_bound\n",
    "global dec_upper_bound\n",
    "\n",
    "# Edit these parameters\n",
    "ra_lower_bound = '00:00:00.0'\n",
    "ra_upper_bound = '24:00:00.0'\n",
    "dec_lower_bound = '-90:00:00.0'\n",
    "dec_upper_bound = '+90:00:00.0'\n",
    "allowed_priority_bands = []\n",
    "\n",
    "# Range filter for mag\n",
    "# Display comments on the table\n",
    "# Filter by bands as well\n",
    "\n",
    "# def filter_ra_by_range(table, column):\n",
    "#     if ra_lower_bound < table[column][] < ra_upper_bound:\n",
    "#         return True\n",
    "#     return False\n",
    "\n",
    "# Edit the parameters of group_by in order to sort by columns of your choice\n",
    "# Possible sort keys: idx, star_id, ra, dec, epoch, proper(ra), proper(dec), mag\n",
    "backlog_table = backlog_table.group_by(['ra', 'mag'])\n",
    "\n",
    "# backlog_table = backlog_table.groups.filter(filter_ra_by_range)\n",
    "# backlog_table = backlog_table.groups.filter(filter_dec_by_range)"
   ]
  },
  {
   "cell_type": "markdown",
   "metadata": {},
   "source": [
    "# Table Display\n",
    "\n",
    "- If a different range, filter, or sort by is needed, rerun \"Parameter Tuning\" code block\n",
    "    - Then, re-run \"Table Display\""
   ]
  },
  {
   "cell_type": "code",
   "execution_count": null,
   "metadata": {},
   "outputs": [],
   "source": [
    "backlog_table.show_in_notebook(display_length=25)"
   ]
  },
  {
   "cell_type": "markdown",
   "metadata": {},
   "source": [
    "# Mark as Observed\n",
    "\n",
    "Mark stars as observed in the below textbox. Remove the example placeholder shown with your own list of 'idx's to mark as observed.\n",
    "\n",
    "After "
   ]
  },
  {
   "cell_type": "code",
   "execution_count": null,
   "metadata": {},
   "outputs": [],
   "source": [
    "observed_textbox"
   ]
  },
  {
   "cell_type": "markdown",
   "metadata": {},
   "source": [
    "## Move targets from textbox to saved observed table\n",
    "\n",
    "Run the below cell in order to save all of the targets by idx, into a temporary table which will be exported at the end of the night.\n",
    "\n",
    "**Note:**\n",
    "\n",
    "- If an entry is not a number or a valid ID of the table, it will be automatically thrown away.**\n",
    "\n",
    "- Idx numbers are not permanent nor important to a particular row, they are simply used as temporary IDs to mark targets as observed"
   ]
  },
  {
   "cell_type": "code",
   "execution_count": null,
   "metadata": {},
   "outputs": [],
   "source": [
    "textbox_string = observed_textbox.value\n",
    "textbox_string = textbox_string.strip()\n",
    "textbox_ids = textbox_string.split('\\n')\n",
    "id_upper_bound = len(backlog_table)\n",
    "textbox_ids = [s for s in textbox_ids if s.isdigit()]\n",
    "textbox_ids = map(int, textbox_ids)\n",
    "textbox_ids = [s for s in textbox_ids if s < id_upper_bound]\n",
    "\n",
    "for idx in textbox_ids:\n",
    "    observed_table.add_row(backlog_table[idx])\n",
    "\n",
    "backlog_table.remove_rows(textbox_ids)"
   ]
  },
  {
   "cell_type": "code",
   "execution_count": null,
   "metadata": {},
   "outputs": [],
   "source": [
    "observed_table.show_in_notebook(display_length=25)"
   ]
  },
  {
   "cell_type": "markdown",
   "metadata": {},
   "source": [
    "# Undo/Redo\n",
    "\n",
    "Use these boilerplate cells to manually undo/redo addition and removal of rows between tables"
   ]
  },
  {
   "cell_type": "code",
   "execution_count": null,
   "metadata": {},
   "outputs": [],
   "source": [
    "# Example boilerplate to manually add back a row to backlog_table\n",
    "backlog_table.add_row([\"HR 0047\", \"00:13:19.4\", \"-84:59:39\", 2000.0, 4.0, 8.0, 5.77])\n",
    "backlog_table.add_row([\"HR 0047\", \"00:13:19.4\", \"-84:59:39\", 2000.0, 4.0, 8.0, 5.77])\n",
    "backlog_table.add_row([\"HR 0047\", \"00:13:19.4\", \"-84:59:39\", 2000.0, 4.0, 8.0, 5.77])"
   ]
  },
  {
   "cell_type": "code",
   "execution_count": null,
   "metadata": {},
   "outputs": [],
   "source": [
    "# Example boilerplate to manually add back a row to observed_table\n",
    "observed_table.add_row([\"HR 0047\", \"00:13:19.4\", \"-84:59:39\", 2000.0, 4.0, 8.0, 5.77])\n",
    "observed_table.add_row([\"HR 0047\", \"00:13:19.4\", \"-84:59:39\", 2000.0, 4.0, 8.0, 5.77])\n",
    "observed_table.add_row([\"HR 0047\", \"00:13:19.4\", \"-84:59:39\", 2000.0, 4.0, 8.0, 5.77])"
   ]
  },
  {
   "cell_type": "code",
   "execution_count": null,
   "metadata": {},
   "outputs": [],
   "source": [
    "backlog_table.remove_rows([1, 3, 100, 111])"
   ]
  },
  {
   "cell_type": "code",
   "execution_count": null,
   "metadata": {},
   "outputs": [],
   "source": [
    "observed_table.remove_rows([1, 3, 100, 111])"
   ]
  },
  {
   "cell_type": "markdown",
   "metadata": {},
   "source": [
    "# Save table state(s) for the night\n",
    "\n",
    "In order to save the state(s) of the table, we will be serializing both the backlog and observed table. When loading data for the next night, only these saved files will be needed, not the initial target files. Will overr\n",
    "\n"
   ]
  },
  {
   "cell_type": "code",
   "execution_count": null,
   "metadata": {
    "scrolled": false
   },
   "outputs": [],
   "source": [
    "import datetime\n",
    "\n",
    "backlog_table.write('backlog_table_' + str(datetime.datetime.utcnow()) + '.ecsv', overwrite=False, serialize_method='data_mask')\n",
    "observed_table.write('observed_table' + str(datetime.datetime.utcnow()) + '.ecsv', overwrite=False, serialize_method='data_mask')"
   ]
  }
 ],
 "metadata": {
  "kernelspec": {
   "display_name": "Python 3",
   "language": "python",
   "name": "python3"
  },
  "language_info": {
   "codemirror_mode": {
    "name": "ipython",
    "version": 3
   },
   "file_extension": ".py",
   "mimetype": "text/x-python",
   "name": "python",
   "nbconvert_exporter": "python",
   "pygments_lexer": "ipython3",
   "version": "3.7.4"
  }
 },
 "nbformat": 4,
 "nbformat_minor": 2
}
